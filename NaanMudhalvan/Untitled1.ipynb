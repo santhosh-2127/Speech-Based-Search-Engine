{
 "cells": [
  {
   "cell_type": "code",
   "execution_count": 1,
   "id": "7155eda4-26e5-4ae7-96de-b3723c1c34d7",
   "metadata": {},
   "outputs": [
    {
     "name": "stdout",
     "output_type": "stream",
     "text": [
      "Requirement already satisfied: SpeechRecognition in c:\\users\\admin\\anaconda3\\lib\\site-packages (3.14.2)\n",
      "Requirement already satisfied: pyttsx3 in c:\\users\\admin\\anaconda3\\lib\\site-packages (2.98)\n",
      "Requirement already satisfied: googlesearch-python in c:\\users\\admin\\anaconda3\\lib\\site-packages (1.3.0)\n",
      "Requirement already satisfied: pyaudio in c:\\users\\admin\\anaconda3\\lib\\site-packages (0.2.14)\n",
      "Requirement already satisfied: typing-extensions in c:\\users\\admin\\anaconda3\\lib\\site-packages (from SpeechRecognition) (4.11.0)\n",
      "Requirement already satisfied: comtypes in c:\\users\\admin\\anaconda3\\lib\\site-packages (from pyttsx3) (1.4.10)\n",
      "Requirement already satisfied: pypiwin32 in c:\\users\\admin\\anaconda3\\lib\\site-packages (from pyttsx3) (223)\n",
      "Requirement already satisfied: pywin32 in c:\\users\\admin\\anaconda3\\lib\\site-packages (from pyttsx3) (305.1)\n",
      "Requirement already satisfied: beautifulsoup4>=4.9 in c:\\users\\admin\\anaconda3\\lib\\site-packages (from googlesearch-python) (4.12.3)\n",
      "Requirement already satisfied: requests>=2.20 in c:\\users\\admin\\anaconda3\\lib\\site-packages (from googlesearch-python) (2.32.3)\n",
      "Requirement already satisfied: soupsieve>1.2 in c:\\users\\admin\\anaconda3\\lib\\site-packages (from beautifulsoup4>=4.9->googlesearch-python) (2.5)\n",
      "Requirement already satisfied: charset-normalizer<4,>=2 in c:\\users\\admin\\anaconda3\\lib\\site-packages (from requests>=2.20->googlesearch-python) (3.3.2)\n",
      "Requirement already satisfied: idna<4,>=2.5 in c:\\users\\admin\\anaconda3\\lib\\site-packages (from requests>=2.20->googlesearch-python) (3.7)\n",
      "Requirement already satisfied: urllib3<3,>=1.21.1 in c:\\users\\admin\\anaconda3\\lib\\site-packages (from requests>=2.20->googlesearch-python) (2.2.3)\n",
      "Requirement already satisfied: certifi>=2017.4.17 in c:\\users\\admin\\anaconda3\\lib\\site-packages (from requests>=2.20->googlesearch-python) (2025.1.31)\n",
      "Note: you may need to restart the kernel to use updated packages.\n"
     ]
    }
   ],
   "source": [
    "pip install SpeechRecognition pyttsx3 googlesearch-python pyaudio\n"
   ]
  },
  {
   "cell_type": "code",
   "execution_count": 2,
   "id": "819817a8-176a-4824-a7b2-90b9ee43f862",
   "metadata": {},
   "outputs": [
    {
     "ename": "SyntaxError",
     "evalue": "invalid syntax (2123041953.py, line 1)",
     "output_type": "error",
     "traceback": [
      "\u001b[1;36m  Cell \u001b[1;32mIn[2], line 1\u001b[1;36m\u001b[0m\n\u001b[1;33m    sudo apt-get install portaudio19-dev python-all-dev python3-all-dev\u001b[0m\n\u001b[1;37m         ^\u001b[0m\n\u001b[1;31mSyntaxError\u001b[0m\u001b[1;31m:\u001b[0m invalid syntax\n"
     ]
    }
   ],
   "source": [
    "sudo apt-get install portaudio19-dev python-all-dev python3-all-dev\n",
    "pip install pyaudio\n"
   ]
  },
  {
   "cell_type": "code",
   "execution_count": null,
   "id": "73f974c1-28c8-4cf8-9ccf-061dc00567ad",
   "metadata": {},
   "outputs": [],
   "source": [
    "sudo apt-get install portaudio19-dev python-all-dev python3-all-dev\n"
   ]
  },
  {
   "cell_type": "code",
   "execution_count": null,
   "id": "e62157d9-6814-4bc8-9703-ff9e437e290f",
   "metadata": {},
   "outputs": [],
   "source": [
    "pip install pyaudio\n"
   ]
  },
  {
   "cell_type": "code",
   "execution_count": null,
   "id": "06949f6c-bd49-4a96-9de2-274e3aa4f851",
   "metadata": {},
   "outputs": [],
   "source": [
    "  !pip install SpeechRecognition pyttsx3 googlesearch-python pyaudio\n"
   ]
  },
  {
   "cell_type": "code",
   "execution_count": null,
   "id": "a450df69-0063-4f68-b15d-a22829e20e9b",
   "metadata": {},
   "outputs": [],
   "source": [
    "from gtts import gTTS\n",
    "import os\n",
    "from IPython.display import Audio\n",
    "\n",
    "def speak_text(text):\n",
    "    \"\"\"\n",
    "    Convert the given text to speech and play it.\n",
    "    \"\"\"\n",
    "    tts = gTTS(text=text, lang='en')\n",
    "    tts.save(\"output.mp3\")\n",
    "    return Audio(\"output.mp3\", autoplay=True)\n"
   ]
  },
  {
   "cell_type": "code",
   "execution_count": null,
   "id": "f46002f4-6169-482e-b460-a4722f702ad7",
   "metadata": {},
   "outputs": [],
   "source": [
    "!pip install gTTS\n"
   ]
  },
  {
   "cell_type": "code",
   "execution_count": null,
   "id": "ff67cb77-75cc-4c7c-8555-e215ff9474a9",
   "metadata": {},
   "outputs": [],
   "source": [
    "from gtts import gTTS\n",
    "import os\n",
    "from IPython.display import Audio\n"
   ]
  },
  {
   "cell_type": "code",
   "execution_count": null,
   "id": "4b12efbe-3e4c-4792-b7dd-ab5ccfa23aff",
   "metadata": {},
   "outputs": [],
   "source": [
    "pip install path_to_downloaded_whl_file.whl\n"
   ]
  },
  {
   "cell_type": "code",
   "execution_count": null,
   "id": "9a5e7f71-78a8-4c88-9e3b-65f184ce0179",
   "metadata": {},
   "outputs": [],
   "source": [
    "import speech_recognition as sr\n",
    "import pyttsx3\n",
    "from googlesearch import search\n",
    "\n",
    "def recognize_speech_from_mic(recognizer, microphone):\n",
    "    \"\"\"\n",
    "    Capture speech from the microphone and convert it to text.\n",
    "    Returns a dictionary with 'success', 'error', and 'transcription' keys.\n",
    "    \"\"\"\n",
    "    if not isinstance(recognizer, sr.Recognizer):\n",
    "        raise TypeError(\"`recognizer` must be an instance of Recognizer\")\n",
    "    if not isinstance(microphone, sr.Microphone):\n",
    "        raise TypeError(\"`microphone` must be an instance of Microphone\")\n",
    "\n",
    "    # Adjust recognizer sensitivity to ambient noise and record audio\n",
    "    with microphone as source:\n",
    "        print(\"Adjusting for ambient noise, please wait...\")\n",
    "        recognizer.adjust_for_ambient_noise(source)\n",
    "        print(\"Listening... Please speak your search query.\")\n",
    "        audio = recognizer.listen(source)\n",
    "\n",
    "    response = {\n",
    "        \"success\": True,\n",
    "        \"error\": None,\n",
    "        \"transcription\": None\n",
    "    }\n",
    "\n",
    "    try:\n",
    "        # Using Google Web Speech API to recognize audio\n",
    "        response[\"transcription\"] = recognizer.recognize_google(audio)\n",
    "    except sr.RequestError:\n",
    "        # API was unreachable or unresponsive\n",
    "        response[\"success\"] = False\n",
    "        response[\"error\"] = \"API unavailable/unresponsive\"\n",
    "    except sr.UnknownValueError:\n",
    "        # Speech was unintelligible\n",
    "        response[\"error\"] = \"Unable to recognize speech\"\n",
    "\n",
    "    return response\n",
    "\n",
    "def speak_text(text):\n",
    "    \"\"\"\n",
    "    Use pyttsx3 text-to-speech to say the given text aloud.\n",
    "    \"\"\"\n",
    "    engine = pyttsx3.init()\n",
    "    engine.setProperty('rate', 150)  # Speech rate\n",
    "    engine.say(text)\n",
    "    engine.runAndWait()\n",
    "\n",
    "def perform_search(query, num_results=5):\n",
    "    \"\"\"\n",
    "    Perform a Google search using the 'googlesearch' library.\n",
    "    Return a list of URLs for the top results.\n",
    "    \"\"\"\n",
    "    print(f\"Searching for: {query}\")\n",
    "    try:\n",
    "        search_results = []\n",
    "        for url in search(query, num_results=num_results, lang='en'):\n",
    "            search_results.append(url)\n",
    "        return search_results\n",
    "    except Exception as e:\n",
    "        print(f\"Error during search: {e}\")\n",
    "        return []\n",
    "\n",
    "def main():\n",
    "    recognizer = sr.Recognizer()\n",
    "    microphone = sr.Microphone()\n",
    "\n",
    "    print(\"Welcome to the Speech-Based Search Engine!\")\n",
    "    print(\"Please speak your search query after the prompt.\\n\")\n",
    "\n",
    "    speech = recognize_speech_from_mic(recognizer, microphone)\n",
    "\n",
    "    if not speech[\"success\"]:\n",
    "        print(\"I didn't catch that. What did you say?\")\n",
    "        speak_text(\"I didn't catch that. Please try again.\")\n",
    "        return\n",
    "\n",
    "    if speech[\"error\"]:\n",
    "        print(f\"ERROR: {speech['error']}\")\n",
    "        speak_text(\"Sorry, there was an error recognizing your speech.\")\n",
    "        return\n",
    "\n",
    "    query = speech[\"transcription\"]\n",
    "    print(f\"You said: {query}\")\n",
    "    speak_text(f\"You said: {query}. Searching now.\")\n",
    "\n",
    "    results = perform_search(query)\n",
    "\n",
    "    if not results:\n",
    "        print(\"No results found or error occurred during search.\")\n",
    "        speak_text(\"Sorry, I could not find any results.\")\n",
    "        return\n",
    "\n",
    "    print(\"\\nTop search results:\")\n",
    "    for i, url in enumerate(results, start=1):\n",
    "        print(f\"{i}. {url}\")\n",
    "        # Optionally read out each URL (can be commented out if not desired)\n",
    "        # speak_text(f\"Result {i}: {url}\")\n",
    "\n",
    "    speak_text(f\"I found {len(results)} results for your query. Check your screen for details.\")\n",
    "\n",
    "if __name__ == \"__main__\":\n",
    "    main()\n"
   ]
  },
  {
   "cell_type": "code",
   "execution_count": 9,
   "id": "5aecb010-05b3-40ef-b815-73bf56e71135",
   "metadata": {},
   "outputs": [
    {
     "name": "stdout",
     "output_type": "stream",
     "text": [
      "Requirement already satisfied: SpeechRecognition in c:\\users\\admin\\anaconda3\\lib\\site-packages (3.14.2)\n",
      "Requirement already satisfied: pyttsx3 in c:\\users\\admin\\anaconda3\\lib\\site-packages (2.98)\n",
      "Requirement already satisfied: pyaudio in c:\\users\\admin\\anaconda3\\lib\\site-packages (0.2.14)\n",
      "Requirement already satisfied: typing-extensions in c:\\users\\admin\\anaconda3\\lib\\site-packages (from SpeechRecognition) (4.11.0)\n",
      "Requirement already satisfied: comtypes in c:\\users\\admin\\anaconda3\\lib\\site-packages (from pyttsx3) (1.4.10)\n",
      "Requirement already satisfied: pypiwin32 in c:\\users\\admin\\anaconda3\\lib\\site-packages (from pyttsx3) (223)\n",
      "Requirement already satisfied: pywin32 in c:\\users\\admin\\anaconda3\\lib\\site-packages (from pyttsx3) (305.1)\n",
      "Note: you may need to restart the kernel to use updated packages.\n"
     ]
    }
   ],
   "source": [
    "pip install SpeechRecognition pyttsx3 pyaudio\n"
   ]
  },
  {
   "cell_type": "code",
   "execution_count": null,
   "id": "ce2096b7-85fb-4af3-a4bc-2708dda66ed4",
   "metadata": {},
   "outputs": [],
   "source": [
    "import os\n",
    "os._exit(00)\n"
   ]
  },
  {
   "cell_type": "code",
   "execution_count": 1,
   "id": "f4c6d5aa-7a7f-434b-8222-cda96225b7e8",
   "metadata": {},
   "outputs": [
    {
     "name": "stdout",
     "output_type": "stream",
     "text": [
      "['Microphone (Realtek HD Audio Mic input)', 'Stereo Mix (Realtek HD Audio Stereo input)', 'Line In (Realtek HD Audio Line input)', 'Speakers (Realtek HD Audio output)']\n"
     ]
    }
   ],
   "source": [
    "import speech_recognition as sr\n",
    "print(sr.Microphone.list_microphone_names())\n"
   ]
  },
  {
   "cell_type": "code",
   "execution_count": 3,
   "id": "9d967854-76fd-44af-a5fe-b399b908caae",
   "metadata": {},
   "outputs": [
    {
     "name": "stdout",
     "output_type": "stream",
     "text": [
      "['Microsoft Sound Mapper - Input', 'Microphone (Realtek(R) Audio)', 'Microsoft Sound Mapper - Output', 'Speakers (Realtek(R) Audio)', 'Primary Sound Capture Driver', 'Microphone (Realtek(R) Audio)', 'Primary Sound Driver', 'Speakers (Realtek(R) Audio)', 'Speakers (Realtek(R) Audio)', 'Microphone (Realtek(R) Audio)', 'Microphone (Realtek HD Audio Mic input)', 'Stereo Mix (Realtek HD Audio Stereo input)', 'Line In (Realtek HD Audio Line input)', 'Speakers (Realtek HD Audio output)']\n"
     ]
    }
   ],
   "source": [
    "import speech_recognition as sr\n",
    "print(sr.Microphone.list_microphone_names())\n"
   ]
  },
  {
   "cell_type": "code",
   "execution_count": 5,
   "id": "d8975dcb-fb6b-44f1-922e-6cbc301ffac7",
   "metadata": {},
   "outputs": [],
   "source": [
    "mic_index = 0  # Replace with the appropriate index\n",
    "mic = sr.Microphone(device_index=mic_index)\n"
   ]
  },
  {
   "cell_type": "code",
   "execution_count": 7,
   "id": "9bdb76e8-7702-4145-a633-d88f056a2016",
   "metadata": {},
   "outputs": [
    {
     "ename": "NameError",
     "evalue": "name 'recognizer' is not defined",
     "output_type": "error",
     "traceback": [
      "\u001b[1;31m---------------------------------------------------------------------------\u001b[0m",
      "\u001b[1;31mNameError\u001b[0m                                 Traceback (most recent call last)",
      "Cell \u001b[1;32mIn[7], line 2\u001b[0m\n\u001b[0;32m      1\u001b[0m \u001b[38;5;28;01mwith\u001b[39;00m mic \u001b[38;5;28;01mas\u001b[39;00m source:\n\u001b[1;32m----> 2\u001b[0m     recognizer\u001b[38;5;241m.\u001b[39madjust_for_ambient_noise(source)\n\u001b[0;32m      3\u001b[0m     \u001b[38;5;28mprint\u001b[39m(\u001b[38;5;124m\"\u001b[39m\u001b[38;5;124mListening...\u001b[39m\u001b[38;5;124m\"\u001b[39m)\n\u001b[0;32m      4\u001b[0m     audio \u001b[38;5;241m=\u001b[39m recognizer\u001b[38;5;241m.\u001b[39mlisten(source)\n",
      "\u001b[1;31mNameError\u001b[0m: name 'recognizer' is not defined"
     ]
    }
   ],
   "source": [
    "with mic as source:\n",
    "    recognizer.adjust_for_ambient_noise(source)\n",
    "    print(\"Listening...\")\n",
    "    audio = recognizer.listen(source)\n"
   ]
  },
  {
   "cell_type": "code",
   "execution_count": 9,
   "id": "3ed690a4-f22d-4d79-9b63-4ad97c6243da",
   "metadata": {},
   "outputs": [
    {
     "name": "stdout",
     "output_type": "stream",
     "text": [
      "Requirement already satisfied: SpeechRecognition in c:\\users\\admin\\anaconda3\\lib\\site-packages (3.14.2)\n",
      "Requirement already satisfied: pyttsx3 in c:\\users\\admin\\anaconda3\\lib\\site-packages (2.98)\n",
      "Requirement already satisfied: googlesearch-python in c:\\users\\admin\\anaconda3\\lib\\site-packages (1.3.0)\n",
      "Requirement already satisfied: pyaudio in c:\\users\\admin\\anaconda3\\lib\\site-packages (0.2.14)\n",
      "Requirement already satisfied: typing-extensions in c:\\users\\admin\\anaconda3\\lib\\site-packages (from SpeechRecognition) (4.11.0)\n",
      "Requirement already satisfied: comtypes in c:\\users\\admin\\anaconda3\\lib\\site-packages (from pyttsx3) (1.4.10)\n",
      "Requirement already satisfied: pypiwin32 in c:\\users\\admin\\anaconda3\\lib\\site-packages (from pyttsx3) (223)\n",
      "Requirement already satisfied: pywin32 in c:\\users\\admin\\anaconda3\\lib\\site-packages (from pyttsx3) (305.1)\n",
      "Requirement already satisfied: beautifulsoup4>=4.9 in c:\\users\\admin\\anaconda3\\lib\\site-packages (from googlesearch-python) (4.12.3)\n",
      "Requirement already satisfied: requests>=2.20 in c:\\users\\admin\\anaconda3\\lib\\site-packages (from googlesearch-python) (2.32.3)\n",
      "Requirement already satisfied: soupsieve>1.2 in c:\\users\\admin\\anaconda3\\lib\\site-packages (from beautifulsoup4>=4.9->googlesearch-python) (2.5)\n",
      "Requirement already satisfied: charset-normalizer<4,>=2 in c:\\users\\admin\\anaconda3\\lib\\site-packages (from requests>=2.20->googlesearch-python) (3.3.2)\n",
      "Requirement already satisfied: idna<4,>=2.5 in c:\\users\\admin\\anaconda3\\lib\\site-packages (from requests>=2.20->googlesearch-python) (3.7)\n",
      "Requirement already satisfied: urllib3<3,>=1.21.1 in c:\\users\\admin\\anaconda3\\lib\\site-packages (from requests>=2.20->googlesearch-python) (2.2.3)\n",
      "Requirement already satisfied: certifi>=2017.4.17 in c:\\users\\admin\\anaconda3\\lib\\site-packages (from requests>=2.20->googlesearch-python) (2025.1.31)\n",
      "Note: you may need to restart the kernel to use updated packages.\n"
     ]
    }
   ],
   "source": [
    "pip install SpeechRecognition pyttsx3 googlesearch-python pyaudio\n"
   ]
  },
  {
   "cell_type": "code",
   "execution_count": 13,
   "id": "f28ce930-98d2-469b-9dfc-0bb45a7e0d0e",
   "metadata": {},
   "outputs": [
    {
     "name": "stdout",
     "output_type": "stream",
     "text": [
      "Welcome to the Speech-Based Search Engine!\n",
      "Please speak your search query after the prompt.\n",
      "\n",
      "Adjusting for ambient noise, please wait...\n",
      "Listening... Please speak your search query.\n",
      "You said: youtube.com\n",
      "Searching for: youtube.com\n",
      "\n",
      "Top search results:\n",
      "1. https://www.youtube.com/\n",
      "2. https://www.youtube.com/\n",
      "3. https://play.google.com/store/apps/details?id=com.google.android.youtube&hl=en_US\n",
      "4. https://support.google.com/youtube/contact/copyright_counternotice?hl=en-GB\n",
      "5. https://accounts.google.com/v3/signin/identifier?dsh=1349009210144600791&service=youtube&flowName=WebLiteSignIn&flowEntry=ServiceLogin&ifkv=AU9NCcwQLaxxi4qmatgD41_2jgOfGomJCl1FEIAMqNnSaXw7up0R9bkCodOdcO8gHUhbHpd07c2q\n"
     ]
    }
   ],
   "source": [
    "import speech_recognition as sr\n",
    "import pyttsx3\n",
    "from googlesearch import search\n",
    "\n",
    "def recognize_speech_from_mic(recognizer, microphone):\n",
    "    \"\"\"\n",
    "    Capture speech from the microphone and convert it to text.\n",
    "    Returns a dictionary with 'success', 'error', and 'transcription' keys.\n",
    "    \"\"\"\n",
    "    if not isinstance(recognizer, sr.Recognizer):\n",
    "        raise TypeError(\"`recognizer` must be an instance of Recognizer\")\n",
    "    if not isinstance(microphone, sr.Microphone):\n",
    "        raise TypeError(\"`microphone` must be an instance of Microphone\")\n",
    "\n",
    "    # Adjust recognizer sensitivity to ambient noise and record audio\n",
    "    with microphone as source:\n",
    "        print(\"Adjusting for ambient noise, please wait...\")\n",
    "        recognizer.adjust_for_ambient_noise(source)\n",
    "        print(\"Listening... Please speak your search query.\")\n",
    "        audio = recognizer.listen(source)\n",
    "\n",
    "    response = {\n",
    "        \"success\": True,\n",
    "        \"error\": None,\n",
    "        \"transcription\": None\n",
    "    }\n",
    "\n",
    "    try:\n",
    "        # Using Google Web Speech API to recognize audio\n",
    "        response[\"transcription\"] = recognizer.recognize_google(audio)\n",
    "    except sr.RequestError:\n",
    "        # API was unreachable or unresponsive\n",
    "        response[\"success\"] = False\n",
    "        response[\"error\"] = \"API unavailable/unresponsive\"\n",
    "    except sr.UnknownValueError:\n",
    "        # Speech was unintelligible\n",
    "        response[\"error\"] = \"Unable to recognize speech\"\n",
    "\n",
    "    return response\n",
    "\n",
    "def speak_text(text):\n",
    "    \"\"\"\n",
    "    Use pyttsx3 text-to-speech to say the given text aloud.\n",
    "    \"\"\"\n",
    "    engine = pyttsx3.init()\n",
    "    engine.setProperty('rate', 150)  # Speech rate\n",
    "    engine.say(text)\n",
    "    engine.runAndWait()\n",
    "\n",
    "def perform_search(query, num_results=5):\n",
    "    \"\"\"\n",
    "    Perform a Google search using the 'googlesearch' library.\n",
    "    Return a list of URLs for the top results.\n",
    "    \"\"\"\n",
    "    print(f\"Searching for: {query}\")\n",
    "    try:\n",
    "        search_results = []\n",
    "        for url in search(query, num_results=num_results, lang='en'):\n",
    "            search_results.append(url)\n",
    "        return search_results\n",
    "    except Exception as e:\n",
    "        print(f\"Error during search: {e}\")\n",
    "        return []\n",
    "\n",
    "def main():\n",
    "    recognizer = sr.Recognizer()\n",
    "    microphone = sr.Microphone()\n",
    "\n",
    "    print(\"Welcome to the Speech-Based Search Engine!\")\n",
    "    print(\"Please speak your search query after the prompt.\\n\")\n",
    "\n",
    "    speech = recognize_speech_from_mic(recognizer, microphone)\n",
    "\n",
    "    if not speech[\"success\"]:\n",
    "        print(\"I didn't catch that. What did you say?\")\n",
    "        speak_text(\"I didn't catch that. Please try again.\")\n",
    "        return\n",
    "\n",
    "    if speech[\"error\"]:\n",
    "        print(f\"ERROR: {speech['error']}\")\n",
    "        speak_text(\"Sorry, there was an error recognizing your speech.\")\n",
    "        return\n",
    "\n",
    "    query = speech[\"transcription\"]\n",
    "    print(f\"You said: {query}\")\n",
    "    speak_text(f\"You said: {query}. Searching now.\")\n",
    "\n",
    "    results = perform_search(query)\n",
    "\n",
    "    if not results:\n",
    "        print(\"No results found or error occurred during search.\")\n",
    "        speak_text(\"Sorry, I could not find any results.\")\n",
    "        return\n",
    "\n",
    "    print(\"\\nTop search results:\")\n",
    "    for i, url in enumerate(results, start=1):\n",
    "        print(f\"{i}. {url}\")\n",
    "        # Optionally read out each URL (can be commented out if not desired)\n",
    "        # speak_text(f\"Result {i}: {url}\")\n",
    "\n",
    "    speak_text(f\"I found {len(results)} results for your query. Check your screen for details.\")\n",
    "\n",
    "if __name__ == \"__main__\":\n",
    "    main()\n"
   ]
  },
  {
   "cell_type": "code",
   "execution_count": 15,
   "id": "16ea1e34-d45b-4233-9f27-9ffbd81f423a",
   "metadata": {},
   "outputs": [
    {
     "name": "stdout",
     "output_type": "stream",
     "text": [
      " * Serving Flask app '__main__'\n",
      " * Debug mode: on\n"
     ]
    },
    {
     "name": "stderr",
     "output_type": "stream",
     "text": [
      "WARNING: This is a development server. Do not use it in a production deployment. Use a production WSGI server instead.\n",
      " * Running on http://127.0.0.1:5000\n",
      "Press CTRL+C to quit\n",
      " * Restarting with watchdog (windowsapi)\n"
     ]
    },
    {
     "ename": "SystemExit",
     "evalue": "1",
     "output_type": "error",
     "traceback": [
      "An exception has occurred, use %tb to see the full traceback.\n",
      "\u001b[1;31mSystemExit\u001b[0m\u001b[1;31m:\u001b[0m 1\n"
     ]
    },
    {
     "name": "stderr",
     "output_type": "stream",
     "text": [
      "C:\\Users\\Admin\\anaconda3\\Lib\\site-packages\\IPython\\core\\interactiveshell.py:3585: UserWarning: To exit: use 'exit', 'quit', or Ctrl-D.\n",
      "  warn(\"To exit: use 'exit', 'quit', or Ctrl-D.\", stacklevel=1)\n"
     ]
    }
   ],
   "source": [
    "from flask import Flask, render_template, request, jsonify\n",
    "import speech_recognition as sr\n",
    "import pyttsx3\n",
    "from googlesearch import search\n",
    "\n",
    "app = Flask(__name__)\n",
    "\n",
    "def recognize_speech_from_mic():\n",
    "    recognizer = sr.Recognizer()\n",
    "    microphone = sr.Microphone()\n",
    "\n",
    "    # Adjust recognizer sensitivity to ambient noise and record audio\n",
    "    with microphone as source:\n",
    "        recognizer.adjust_for_ambient_noise(source)\n",
    "        print(\"Listening... Please speak your search query.\")\n",
    "        audio = recognizer.listen(source)\n",
    "\n",
    "    response = {\n",
    "        \"success\": True,\n",
    "        \"error\": None,\n",
    "        \"transcription\": None\n",
    "    }\n",
    "\n",
    "    try:\n",
    "        # Using Google Web Speech API to recognize audio\n",
    "        response[\"transcription\"] = recognizer.recognize_google(audio)\n",
    "    except sr.RequestError:\n",
    "        response[\"success\"] = False\n",
    "        response[\"error\"] = \"API unavailable/unresponsive\"\n",
    "    except sr.UnknownValueError:\n",
    "        response[\"error\"] = \"Unable to recognize speech\"\n",
    "\n",
    "    return response\n",
    "\n",
    "def perform_search(query, num_results=5):\n",
    "    search_results = []\n",
    "    for url in search(query, num_results=num_results, lang='en'):\n",
    "        search_results.append(url)\n",
    "    return search_results\n",
    "\n",
    "def speak_text(text):\n",
    "    engine = pyttsx3.init()\n",
    "    engine.setProperty('rate', 150)  # Speech rate\n",
    "    engine.say(text)\n",
    "    engine.runAndWait()\n",
    "\n",
    "@app.route('/')\n",
    "def home():\n",
    "    return render_template('index.html')\n",
    "\n",
    "@app.route('/search', methods=['POST'])\n",
    "def search_query():\n",
    "    query = request.form['query']\n",
    "    if not query:\n",
    "        return jsonify({\"error\": \"No query provided\"})\n",
    "\n",
    "    results = perform_search(query)\n",
    "\n",
    "    if not results:\n",
    "        return jsonify({\"error\": \"No results found\"})\n",
    "\n",
    "    response = {\n",
    "        \"results\": results\n",
    "    }\n",
    "\n",
    "    speak_text(f\"I found {len(results)} results for your query.\")\n",
    "    return jsonify(response)\n",
    "\n",
    "if __name__ == \"__main__\":\n",
    "    app.run(debug=True)\n"
   ]
  },
  {
   "cell_type": "code",
   "execution_count": 18,
   "id": "5bc3dc01-cc18-4ea0-96b4-45fc7cb5410d",
   "metadata": {},
   "outputs": [
    {
     "name": "stdout",
     "output_type": "stream",
     "text": [
      "Welcome to the Speech-Based Search Engine!\n",
      "Please speak your search query after the prompt.\n",
      "\n",
      "Adjusting for ambient noise, please wait...\n"
     ]
    },
    {
     "ename": "AttributeError",
     "evalue": "'NoneType' object has no attribute 'close'",
     "output_type": "error",
     "traceback": [
      "\u001b[1;31m---------------------------------------------------------------------------\u001b[0m",
      "\u001b[1;31mAssertionError\u001b[0m                            Traceback (most recent call last)",
      "Cell \u001b[1;32mIn[18], line 18\u001b[0m, in \u001b[0;36mrecognize_speech_from_mic\u001b[1;34m(recognizer, microphone)\u001b[0m\n\u001b[0;32m     17\u001b[0m \u001b[38;5;28mprint\u001b[39m(\u001b[38;5;124m\"\u001b[39m\u001b[38;5;124mAdjusting for ambient noise, please wait...\u001b[39m\u001b[38;5;124m\"\u001b[39m)\n\u001b[1;32m---> 18\u001b[0m recognizer\u001b[38;5;241m.\u001b[39madjust_for_ambient_noise(source)\n\u001b[0;32m     19\u001b[0m \u001b[38;5;28mprint\u001b[39m(\u001b[38;5;124m\"\u001b[39m\u001b[38;5;124mListening... Please speak your search query.\u001b[39m\u001b[38;5;124m\"\u001b[39m)\n",
      "File \u001b[1;32m~\\anaconda3\\Lib\\site-packages\\speech_recognition\\__init__.py:375\u001b[0m, in \u001b[0;36mRecognizer.adjust_for_ambient_noise\u001b[1;34m(self, source, duration)\u001b[0m\n\u001b[0;32m    374\u001b[0m \u001b[38;5;28;01massert\u001b[39;00m \u001b[38;5;28misinstance\u001b[39m(source, AudioSource), \u001b[38;5;124m\"\u001b[39m\u001b[38;5;124mSource must be an audio source\u001b[39m\u001b[38;5;124m\"\u001b[39m\n\u001b[1;32m--> 375\u001b[0m \u001b[38;5;28;01massert\u001b[39;00m source\u001b[38;5;241m.\u001b[39mstream \u001b[38;5;129;01mis\u001b[39;00m \u001b[38;5;129;01mnot\u001b[39;00m \u001b[38;5;28;01mNone\u001b[39;00m, \u001b[38;5;124m\"\u001b[39m\u001b[38;5;124mAudio source must be entered before adjusting, see documentation for ``AudioSource``; are you using ``source`` outside of a ``with`` statement?\u001b[39m\u001b[38;5;124m\"\u001b[39m\n\u001b[0;32m    376\u001b[0m \u001b[38;5;28;01massert\u001b[39;00m \u001b[38;5;28mself\u001b[39m\u001b[38;5;241m.\u001b[39mpause_threshold \u001b[38;5;241m>\u001b[39m\u001b[38;5;241m=\u001b[39m \u001b[38;5;28mself\u001b[39m\u001b[38;5;241m.\u001b[39mnon_speaking_duration \u001b[38;5;241m>\u001b[39m\u001b[38;5;241m=\u001b[39m \u001b[38;5;241m0\u001b[39m\n",
      "\u001b[1;31mAssertionError\u001b[0m: Audio source must be entered before adjusting, see documentation for ``AudioSource``; are you using ``source`` outside of a ``with`` statement?",
      "\nDuring handling of the above exception, another exception occurred:\n",
      "\u001b[1;31mAttributeError\u001b[0m                            Traceback (most recent call last)",
      "Cell \u001b[1;32mIn[18], line 104\u001b[0m\n\u001b[0;32m    101\u001b[0m     speak_text(\u001b[38;5;124mf\u001b[39m\u001b[38;5;124m\"\u001b[39m\u001b[38;5;124mI found \u001b[39m\u001b[38;5;132;01m{\u001b[39;00m\u001b[38;5;28mlen\u001b[39m(results)\u001b[38;5;132;01m}\u001b[39;00m\u001b[38;5;124m results for your query. Check your screen for details.\u001b[39m\u001b[38;5;124m\"\u001b[39m)\n\u001b[0;32m    103\u001b[0m \u001b[38;5;28;01mif\u001b[39;00m \u001b[38;5;18m__name__\u001b[39m \u001b[38;5;241m==\u001b[39m \u001b[38;5;124m\"\u001b[39m\u001b[38;5;124m__main__\u001b[39m\u001b[38;5;124m\"\u001b[39m:\n\u001b[1;32m--> 104\u001b[0m     main()\n",
      "Cell \u001b[1;32mIn[18], line 72\u001b[0m, in \u001b[0;36mmain\u001b[1;34m()\u001b[0m\n\u001b[0;32m     69\u001b[0m \u001b[38;5;28mprint\u001b[39m(\u001b[38;5;124m\"\u001b[39m\u001b[38;5;124mWelcome to the Speech-Based Search Engine!\u001b[39m\u001b[38;5;124m\"\u001b[39m)\n\u001b[0;32m     70\u001b[0m \u001b[38;5;28mprint\u001b[39m(\u001b[38;5;124m\"\u001b[39m\u001b[38;5;124mPlease speak your search query after the prompt.\u001b[39m\u001b[38;5;130;01m\\n\u001b[39;00m\u001b[38;5;124m\"\u001b[39m)\n\u001b[1;32m---> 72\u001b[0m speech \u001b[38;5;241m=\u001b[39m recognize_speech_from_mic(recognizer, microphone)\n\u001b[0;32m     74\u001b[0m \u001b[38;5;28;01mif\u001b[39;00m \u001b[38;5;129;01mnot\u001b[39;00m speech[\u001b[38;5;124m\"\u001b[39m\u001b[38;5;124msuccess\u001b[39m\u001b[38;5;124m\"\u001b[39m]:\n\u001b[0;32m     75\u001b[0m     \u001b[38;5;28mprint\u001b[39m(\u001b[38;5;124m\"\u001b[39m\u001b[38;5;124mI didn\u001b[39m\u001b[38;5;124m'\u001b[39m\u001b[38;5;124mt catch that. What did you say?\u001b[39m\u001b[38;5;124m\"\u001b[39m)\n",
      "Cell \u001b[1;32mIn[18], line 16\u001b[0m, in \u001b[0;36mrecognize_speech_from_mic\u001b[1;34m(recognizer, microphone)\u001b[0m\n\u001b[0;32m     13\u001b[0m     \u001b[38;5;28;01mraise\u001b[39;00m \u001b[38;5;167;01mTypeError\u001b[39;00m(\u001b[38;5;124m\"\u001b[39m\u001b[38;5;124m`microphone` must be an instance of Microphone\u001b[39m\u001b[38;5;124m\"\u001b[39m)\n\u001b[0;32m     15\u001b[0m \u001b[38;5;66;03m# Adjust recognizer sensitivity to ambient noise and record audio\u001b[39;00m\n\u001b[1;32m---> 16\u001b[0m \u001b[38;5;28;01mwith\u001b[39;00m microphone \u001b[38;5;28;01mas\u001b[39;00m source:\n\u001b[0;32m     17\u001b[0m     \u001b[38;5;28mprint\u001b[39m(\u001b[38;5;124m\"\u001b[39m\u001b[38;5;124mAdjusting for ambient noise, please wait...\u001b[39m\u001b[38;5;124m\"\u001b[39m)\n\u001b[0;32m     18\u001b[0m     recognizer\u001b[38;5;241m.\u001b[39madjust_for_ambient_noise(source)\n",
      "File \u001b[1;32m~\\anaconda3\\Lib\\site-packages\\speech_recognition\\__init__.py:181\u001b[0m, in \u001b[0;36mMicrophone.__exit__\u001b[1;34m(self, exc_type, exc_value, traceback)\u001b[0m\n\u001b[0;32m    179\u001b[0m \u001b[38;5;28;01mdef\u001b[39;00m \u001b[38;5;21m__exit__\u001b[39m(\u001b[38;5;28mself\u001b[39m, exc_type, exc_value, traceback):\n\u001b[0;32m    180\u001b[0m     \u001b[38;5;28;01mtry\u001b[39;00m:\n\u001b[1;32m--> 181\u001b[0m         \u001b[38;5;28mself\u001b[39m\u001b[38;5;241m.\u001b[39mstream\u001b[38;5;241m.\u001b[39mclose()\n\u001b[0;32m    182\u001b[0m     \u001b[38;5;28;01mfinally\u001b[39;00m:\n\u001b[0;32m    183\u001b[0m         \u001b[38;5;28mself\u001b[39m\u001b[38;5;241m.\u001b[39mstream \u001b[38;5;241m=\u001b[39m \u001b[38;5;28;01mNone\u001b[39;00m\n",
      "\u001b[1;31mAttributeError\u001b[0m: 'NoneType' object has no attribute 'close'"
     ]
    }
   ],
   "source": [
    "import speech_recognition as sr\n",
    "import pyttsx3\n",
    "from googlesearch import search\n",
    "\n",
    "def recognize_speech_from_mic(recognizer, microphone):\n",
    "    \"\"\"\n",
    "    Capture speech from the microphone and convert it to text.\n",
    "    Returns a dictionary with 'success', 'error', and 'transcription' keys.\n",
    "    \"\"\"\n",
    "    if not isinstance(recognizer, sr.Recognizer):\n",
    "        raise TypeError(\"`recognizer` must be an instance of Recognizer\")\n",
    "    if not isinstance(microphone, sr.Microphone):\n",
    "        raise TypeError(\"`microphone` must be an instance of Microphone\")\n",
    "\n",
    "    # Adjust recognizer sensitivity to ambient noise and record audio\n",
    "    with microphone as source:\n",
    "        print(\"Adjusting for ambient noise, please wait...\")\n",
    "        recognizer.adjust_for_ambient_noise(source)\n",
    "        print(\"Listening... Please speak your search query.\")\n",
    "        audio = recognizer.listen(source)\n",
    "\n",
    "    response = {\n",
    "        \"success\": True,\n",
    "        \"error\": None,\n",
    "        \"transcription\": None\n",
    "    }\n",
    "\n",
    "    try:\n",
    "        # Using Google Web Speech API to recognize audio\n",
    "        response[\"transcription\"] = recognizer.recognize_google(audio)\n",
    "    except sr.RequestError:\n",
    "        # API was unreachable or unresponsive\n",
    "        response[\"success\"] = False\n",
    "        response[\"error\"] = \"API unavailable/unresponsive\"\n",
    "    except sr.UnknownValueError:\n",
    "        # Speech was unintelligible\n",
    "        response[\"error\"] = \"Unable to recognize speech\"\n",
    "\n",
    "    return response\n",
    "\n",
    "def speak_text(text):\n",
    "    \"\"\"\n",
    "    Use pyttsx3 text-to-speech to say the given text aloud.\n",
    "    \"\"\"\n",
    "    engine = pyttsx3.init()\n",
    "    engine.setProperty('rate', 150)  # Speech rate\n",
    "    engine.say(text)\n",
    "    engine.runAndWait()\n",
    "\n",
    "def perform_search(query, num_results=5):\n",
    "    \"\"\"\n",
    "    Perform a Google search using the 'googlesearch' library.\n",
    "    Return a list of URLs for the top results.\n",
    "    \"\"\"\n",
    "    print(f\"Searching for: {query}\")\n",
    "    try:\n",
    "        search_results = []\n",
    "        for url in search(query, num_results=num_results, lang='en'):\n",
    "            search_results.append(url)\n",
    "        return search_results\n",
    "    except Exception as e:\n",
    "        print(f\"Error during search: {e}\")\n",
    "        return []\n",
    "\n",
    "def main():\n",
    "    recognizer = sr.Recognizer()\n",
    "    microphone = sr.Microphone()\n",
    "\n",
    "    print(\"Welcome to the Speech-Based Search Engine!\")\n",
    "    print(\"Please speak your search query after the prompt.\\n\")\n",
    "\n",
    "    speech = recognize_speech_from_mic(recognizer, microphone)\n",
    "\n",
    "    if not speech[\"success\"]:\n",
    "        print(\"I didn't catch that. What did you say?\")\n",
    "        speak_text(\"I didn't catch that. Please try again.\")\n",
    "        return\n",
    "\n",
    "    if speech[\"error\"]:\n",
    "        print(f\"ERROR: {speech['error']}\")\n",
    "        speak_text(\"Sorry, there was an error recognizing your speech.\")\n",
    "        return\n",
    "\n",
    "    query = speech[\"transcription\"]\n",
    "    print(f\"You said: {query}\")\n",
    "    speak_text(f\"You said: {query}. Searching now.\")\n",
    "\n",
    "    results = perform_search(query)\n",
    "\n",
    "    if not results:\n",
    "        print(\"No results found or error occurred during search.\")\n",
    "        speak_text(\"Sorry, I could not find any results.\")\n",
    "        return\n",
    "\n",
    "    print(\"\\nTop search results:\")\n",
    "    for i, url in enumerate(results, start=1):\n",
    "        print(f\"{i}. {url}\")\n",
    "        # Optionally read out each URL (can be commented out if not desired)\n",
    "        # speak_text(f\"Result {i}: {url}\")\n",
    "\n",
    "    speak_text(f\"I found {len(results)} results for your query. Check your screen for details.\")\n",
    "\n",
    "if __name__ == \"__main__\":\n",
    "    main()\n"
   ]
  },
  {
   "cell_type": "code",
   "execution_count": null,
   "id": "759d41cd-c9a8-4054-916c-992c1ba78655",
   "metadata": {},
   "outputs": [],
   "source": []
  },
  {
   "cell_type": "code",
   "execution_count": null,
   "id": "3806d88a-6531-4aac-96c1-36628e1af98e",
   "metadata": {},
   "outputs": [],
   "source": []
  }
 ],
 "metadata": {
  "kernelspec": {
   "display_name": "Python [conda env:base] *",
   "language": "python",
   "name": "conda-base-py"
  },
  "language_info": {
   "codemirror_mode": {
    "name": "ipython",
    "version": 3
   },
   "file_extension": ".py",
   "mimetype": "text/x-python",
   "name": "python",
   "nbconvert_exporter": "python",
   "pygments_lexer": "ipython3",
   "version": "3.12.7"
  }
 },
 "nbformat": 4,
 "nbformat_minor": 5
}
